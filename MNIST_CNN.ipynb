{
  "nbformat": 4,
  "nbformat_minor": 0,
  "metadata": {
    "colab": {
      "name": "MNIST_CNN.ipynb",
      "provenance": [],
      "collapsed_sections": [],
      "authorship_tag": "ABX9TyPifIl/gTLAfXWxVqUd4RPB",
      "include_colab_link": true
    },
    "kernelspec": {
      "name": "python3",
      "display_name": "Python 3"
    },
    "language_info": {
      "name": "python"
    },
    "accelerator": "GPU",
    "gpuClass": "standard"
  },
  "cells": [
    {
      "cell_type": "markdown",
      "metadata": {
        "id": "view-in-github",
        "colab_type": "text"
      },
      "source": [
        "<a href=\"https://colab.research.google.com/github/AlesKas/neural_networks/blob/main/MNIST_CNN.ipynb\" target=\"_parent\"><img src=\"https://colab.research.google.com/assets/colab-badge.svg\" alt=\"Open In Colab\"/></a>"
      ]
    },
    {
      "cell_type": "code",
      "execution_count": null,
      "metadata": {
        "colab": {
          "base_uri": "https://localhost:8080/"
        },
        "id": "XOJTeMRnRRCO",
        "outputId": "fa55d40e-4112-41f5-ee11-ec165ebcc515"
      },
      "outputs": [
        {
          "output_type": "stream",
          "name": "stdout",
          "text": [
            "Looking in indexes: https://pypi.org/simple, https://us-python.pkg.dev/colab-wheels/public/simple/\n",
            "Requirement already satisfied: torch in /usr/local/lib/python3.7/dist-packages (1.11.0+cu113)\n",
            "Requirement already satisfied: torchvision in /usr/local/lib/python3.7/dist-packages (0.12.0+cu113)\n",
            "Requirement already satisfied: typing-extensions in /usr/local/lib/python3.7/dist-packages (from torch) (4.1.1)\n",
            "Requirement already satisfied: numpy in /usr/local/lib/python3.7/dist-packages (from torchvision) (1.21.6)\n",
            "Requirement already satisfied: pillow!=8.3.*,>=5.3.0 in /usr/local/lib/python3.7/dist-packages (from torchvision) (7.1.2)\n",
            "Requirement already satisfied: requests in /usr/local/lib/python3.7/dist-packages (from torchvision) (2.23.0)\n",
            "Requirement already satisfied: chardet<4,>=3.0.2 in /usr/local/lib/python3.7/dist-packages (from requests->torchvision) (3.0.4)\n",
            "Requirement already satisfied: urllib3!=1.25.0,!=1.25.1,<1.26,>=1.21.1 in /usr/local/lib/python3.7/dist-packages (from requests->torchvision) (1.24.3)\n",
            "Requirement already satisfied: certifi>=2017.4.17 in /usr/local/lib/python3.7/dist-packages (from requests->torchvision) (2022.6.15)\n",
            "Requirement already satisfied: idna<3,>=2.5 in /usr/local/lib/python3.7/dist-packages (from requests->torchvision) (2.10)\n"
          ]
        }
      ],
      "source": [
        "!pip install torch torchvision"
      ]
    },
    {
      "cell_type": "code",
      "source": [
        "!pip install matplotlib"
      ],
      "metadata": {
        "colab": {
          "base_uri": "https://localhost:8080/"
        },
        "id": "BX1YVYAcP2-M",
        "outputId": "f6d787b0-30ab-4ef2-8110-c934e0695160"
      },
      "execution_count": null,
      "outputs": [
        {
          "output_type": "stream",
          "name": "stdout",
          "text": [
            "Looking in indexes: https://pypi.org/simple, https://us-python.pkg.dev/colab-wheels/public/simple/\n",
            "Requirement already satisfied: matplotlib in /usr/local/lib/python3.7/dist-packages (3.2.2)\n",
            "Requirement already satisfied: pyparsing!=2.0.4,!=2.1.2,!=2.1.6,>=2.0.1 in /usr/local/lib/python3.7/dist-packages (from matplotlib) (3.0.9)\n",
            "Requirement already satisfied: kiwisolver>=1.0.1 in /usr/local/lib/python3.7/dist-packages (from matplotlib) (1.4.3)\n",
            "Requirement already satisfied: cycler>=0.10 in /usr/local/lib/python3.7/dist-packages (from matplotlib) (0.11.0)\n",
            "Requirement already satisfied: python-dateutil>=2.1 in /usr/local/lib/python3.7/dist-packages (from matplotlib) (2.8.2)\n",
            "Requirement already satisfied: numpy>=1.11 in /usr/local/lib/python3.7/dist-packages (from matplotlib) (1.21.6)\n",
            "Requirement already satisfied: typing-extensions in /usr/local/lib/python3.7/dist-packages (from kiwisolver>=1.0.1->matplotlib) (4.1.1)\n",
            "Requirement already satisfied: six>=1.5 in /usr/local/lib/python3.7/dist-packages (from python-dateutil>=2.1->matplotlib) (1.15.0)\n"
          ]
        }
      ]
    },
    {
      "cell_type": "code",
      "source": [
        "import torch\n",
        "import random\n",
        "\n",
        "import numpy as np\n",
        "import torch.nn as nn\n",
        "import matplotlib.pyplot as plt\n",
        "import torch.nn.functional as F\n",
        "import torchvision.transforms as transforms\n",
        "\n",
        "from torchvision.datasets import MNIST\n",
        "from torch.utils.data.dataloader import DataLoader\n",
        "from torch.utils.data.sampler import SubsetRandomSampler"
      ],
      "metadata": {
        "id": "nYgtDrEYTNCg"
      },
      "execution_count": null,
      "outputs": []
    },
    {
      "cell_type": "code",
      "source": [
        "BATCH_SIZE = 100\n",
        "NUM_CLASSES = 10\n",
        "INPUT_SIZE = 28 * 28\n",
        "DATASET = MNIST(root='data/', download=True, train=True, transform=transforms.ToTensor())\n",
        "\n",
        "if torch.cuda.is_available():  \n",
        "    dev = \"cuda:0\" \n",
        "else:  \n",
        "    dev = \"cpu\" "
      ],
      "metadata": {
        "id": "yb_CabDuT__w"
      },
      "execution_count": null,
      "outputs": []
    },
    {
      "cell_type": "code",
      "source": [
        "class MnistCNN(nn.Module):\n",
        "    def __init__(self) -> None:\n",
        "        super().__init__()\n",
        "        self.conv1 = nn.Sequential(         \n",
        "            nn.Conv2d(\n",
        "                in_channels=1,              \n",
        "                out_channels=16,            \n",
        "                kernel_size=5,              \n",
        "                stride=1,                   \n",
        "                padding=2,                  \n",
        "            ),                              \n",
        "            nn.ReLU(),                      \n",
        "            nn.MaxPool2d(kernel_size=2),    \n",
        "        )\n",
        "        self.conv2 = nn.Sequential(         \n",
        "            nn.Conv2d(16, 32, 5, 1, 2),     \n",
        "            nn.ReLU(),                      \n",
        "            nn.MaxPool2d(2),                \n",
        "        )\n",
        "        self.out = nn.Linear(32 * 7 * 7, 10)\n",
        "        self.apply(self._init_weights)\n",
        "\n",
        "    def forward(self, x):\n",
        "        x = self.conv1(x)\n",
        "        x = self.conv2(x)\n",
        "        x = x.view(x.size(0), -1)       \n",
        "        output = self.out(x)\n",
        "        return output\n",
        "\n",
        "    def _init_weights(self, module):\n",
        "          if isinstance(module, nn.Linear):\n",
        "            module.weight.data.normal_(mean=0.0, std=1.0)\n",
        "            if module.bias is not None:\n",
        "                module.bias.data.zero_()\n"
      ],
      "metadata": {
        "id": "_UDxY48XmYLx"
      },
      "execution_count": null,
      "outputs": []
    },
    {
      "cell_type": "code",
      "source": [
        "def accuracy(outputs, labels):\n",
        "    _, preds = torch.max(outputs, dim=1)\n",
        "    return torch.sum(preds == labels).item() / len(preds)\n",
        "\n",
        "def loss_batch(model, loss_fun, xb, yb, opt=None, metric=None):\n",
        "    preds = model(xb)\n",
        "\n",
        "    loss = loss_fun(preds, yb)\n",
        "\n",
        "    if opt is not None:\n",
        "        loss.backward()\n",
        "        opt.step()\n",
        "        opt.zero_grad()\n",
        "\n",
        "    metric_result = None\n",
        "    if metric is not None:\n",
        "        metric_result = metric(preds, yb)\n",
        "\n",
        "    return loss.item(), len(xb), metric_result\n",
        "\n",
        "def evaluate(model, loss_fun, valid_dl, metric=None):\n",
        "    with torch.no_grad():\n",
        "        results = [loss_batch(model, loss_fun, xb.to(dev), yb.to(dev), metric=metric) for xb, yb in valid_dl]\n",
        "        losses, nums, metric = zip(*results)\n",
        "\n",
        "        total = np.sum(nums)\n",
        "\n",
        "        avg_loss = np.sum(np.multiply(losses, nums)) / total\n",
        "        avg_metric = None\n",
        "        if metric is not None:\n",
        "            avg_metric = np.sum(np.multiply(metric, nums)) / total\n",
        "        \n",
        "    return avg_loss, total, avg_metric\n",
        "\n",
        "def fit(epochs, model, loss_fun, opt, train_dl, valid_dl, metric=None):\n",
        "    for epoch in range(epochs):\n",
        "        for xb, yb in train_dl:\n",
        "            xb, yb = xb.to(dev), yb.to(dev)\n",
        "            loss, _, _ = loss_batch(model, loss_fun, xb, yb, opt, metric)\n",
        "\n",
        "        result = evaluate(model, loss_fun, valid_dl, metric)\n",
        "        val_loss, total, val_metric = result\n",
        "\n",
        "        if metric is None:\n",
        "            print(f'Epoch {epoch+1}, loss: {val_loss:.4f}')\n",
        "        else:\n",
        "            print(f'Epoch {epoch+1}, loss: {val_loss:.4f}, {metric.__name__}: {val_metric:.4f}')\n",
        "\n",
        "def split_indices(n, val_pct):\n",
        "    # Determine size of validation set\n",
        "    n_val = int(val_pct*n)\n",
        "\n",
        "    idxs = np.random.permutation(n)\n",
        "\n",
        "    return idxs[n_val:], idxs[:n_val]\n",
        "\n",
        "train_indexes, validation_indexes = split_indices(len(DATASET), 0.2)\n",
        "\n",
        "train_sampler = SubsetRandomSampler(train_indexes)\n",
        "train_loader = DataLoader(DATASET, BATCH_SIZE, sampler=train_sampler)\n",
        "\n",
        "val_sampler = SubsetRandomSampler(validation_indexes)\n",
        "val_loader = DataLoader(DATASET, BATCH_SIZE, sampler=val_sampler)"
      ],
      "metadata": {
        "id": "6FyNCPrfaLhs"
      },
      "execution_count": null,
      "outputs": []
    },
    {
      "cell_type": "code",
      "source": [
        "model = MnistCNN().to(dev)\n",
        "learning_rate = 0.001\n",
        "optimizer = torch.optim.SGD(model.parameters(), lr=learning_rate)\n",
        "\n",
        "loss_fun = F.cross_entropy\n",
        "\n",
        "fit(10, model, loss_fun, optimizer, train_loader, val_loader, accuracy)"
      ],
      "metadata": {
        "id": "--JvOwskUTAR",
        "colab": {
          "base_uri": "https://localhost:8080/"
        },
        "outputId": "fe47a157-209d-474c-ee81-11f22fbdf018"
      },
      "execution_count": null,
      "outputs": [
        {
          "output_type": "stream",
          "name": "stdout",
          "text": [
            "Epoch 1, loss: 0.4614, accuracy: 0.8609\n",
            "Epoch 2, loss: 0.3436, accuracy: 0.8960\n",
            "Epoch 3, loss: 0.2762, accuracy: 0.9179\n",
            "Epoch 4, loss: 0.2447, accuracy: 0.9279\n",
            "Epoch 5, loss: 0.2207, accuracy: 0.9350\n",
            "Epoch 6, loss: 0.2083, accuracy: 0.9403\n",
            "Epoch 7, loss: 0.1926, accuracy: 0.9427\n",
            "Epoch 8, loss: 0.1848, accuracy: 0.9458\n",
            "Epoch 9, loss: 0.1754, accuracy: 0.9490\n",
            "Epoch 10, loss: 0.1689, accuracy: 0.9496\n",
            "Epoch 11, loss: 0.1630, accuracy: 0.9529\n",
            "Epoch 12, loss: 0.1543, accuracy: 0.9538\n",
            "Epoch 13, loss: 0.1533, accuracy: 0.9541\n",
            "Epoch 14, loss: 0.1475, accuracy: 0.9573\n",
            "Epoch 15, loss: 0.1442, accuracy: 0.9581\n"
          ]
        }
      ]
    },
    {
      "cell_type": "code",
      "source": [
        "test_dataset = MNIST(root='data/', train=False, transform=transforms.ToTensor())\n",
        "\n",
        "def predict_image(image, model):\n",
        "    xb = image.unsqueeze(0).to(dev)\n",
        "    yb = model(xb)\n",
        "    yb = yb.to(dev)\n",
        "    _, preds = torch.max(yb, dim=1)\n",
        "    return preds[0].item()\n",
        "\n",
        "for i in range(10):\n",
        "    img, label = random.choice(test_dataset)\n",
        "    print(f\"Label: {label}, predicted: {predict_image(img, model)}\")\n",
        "\n",
        "test_loader = DataLoader(test_dataset, batch_size=200)\n",
        "test_loss, total, test_acc = evaluate(model, loss_fun, test_loader, metric=accuracy)\n",
        "print(f\"Loss: {test_loss:.4f}, accuracy: {test_acc:.4f}\")"
      ],
      "metadata": {
        "colab": {
          "base_uri": "https://localhost:8080/"
        },
        "id": "fKGc_IHyg811",
        "outputId": "9c4bc4f8-18cd-42da-e4c3-ce9fa2dc7297"
      },
      "execution_count": null,
      "outputs": [
        {
          "output_type": "stream",
          "name": "stdout",
          "text": [
            "Label: 0, predicted: 0\n",
            "Label: 6, predicted: 6\n",
            "Label: 3, predicted: 3\n",
            "Label: 7, predicted: 7\n",
            "Label: 8, predicted: 8\n",
            "Label: 0, predicted: 0\n",
            "Label: 6, predicted: 6\n",
            "Label: 3, predicted: 3\n",
            "Label: 1, predicted: 1\n",
            "Label: 4, predicted: 4\n",
            "Loss: 0.1293, accuracy: 0.9583\n"
          ]
        }
      ]
    }
  ]
}